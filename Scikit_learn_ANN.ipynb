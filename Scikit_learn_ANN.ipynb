{
  "nbformat": 4,
  "nbformat_minor": 0,
  "metadata": {
    "colab": {
      "provenance": [],
      "authorship_tag": "ABX9TyN3mtWk+MoeMaxmuJA6QBFd",
      "include_colab_link": true
    },
    "kernelspec": {
      "name": "python3",
      "display_name": "Python 3"
    },
    "language_info": {
      "name": "python"
    }
  },
  "cells": [
    {
      "cell_type": "markdown",
      "metadata": {
        "id": "view-in-github",
        "colab_type": "text"
      },
      "source": [
        "<a href=\"https://colab.research.google.com/github/samkamau81/Scikit-Learn-ANN/blob/main/Scikit_learn_ANN.ipynb\" target=\"_parent\"><img src=\"https://colab.research.google.com/assets/colab-badge.svg\" alt=\"Open In Colab\"/></a>"
      ]
    },
    {
      "cell_type": "markdown",
      "source": [
        "# **Deep Neural Multilayer Perceptron (MLP) with Scikit-learn**\n",
        "\n",
        "\n",
        "---\n",
        "\n",
        "## **Regression** "
      ],
      "metadata": {
        "id": "B3iXpRw7e8MN"
      }
    },
    {
      "cell_type": "code",
      "execution_count": 2,
      "metadata": {
        "id": "vxKzS56FeY-K"
      },
      "outputs": [],
      "source": [
        "\"\"\"Import the required modules\"\"\"\n",
        "from sklearn.neural_network import MLPRegressor\n",
        "from sklearn.model_selection import train_test_split\n",
        "from sklearn.datasets import fetch_california_housing\n",
        "from sklearn.preprocessing import StandardScaler\n",
        "from sklearn.metrics import r2_score\n",
        "import pandas as pd"
      ]
    },
    {
      "cell_type": "code",
      "source": [
        "cal_housing = fetch_california_housing()\n",
        "X = pd.DataFrame(cal_housing.data,columns=cal_housing.feature_names)\n",
        "y = cal_housing.target\n",
        "X_train, X_test, y_train, y_test = train_test_split(X, y,random_state=1, test_size=0.2)"
      ],
      "metadata": {
        "id": "dl-hVp9BedyD"
      },
      "execution_count": 17,
      "outputs": []
    },
    {
      "cell_type": "code",
      "source": [
        "print(X)\n",
        "print(y)"
      ],
      "metadata": {
        "colab": {
          "base_uri": "https://localhost:8080/"
        },
        "id": "hnmBFFkZhuja",
        "outputId": "9771a422-170c-4db5-a5c7-c80b4741ac63"
      },
      "execution_count": 18,
      "outputs": [
        {
          "output_type": "stream",
          "name": "stdout",
          "text": [
            "       MedInc  HouseAge  AveRooms  AveBedrms  Population  AveOccup  Latitude  \\\n",
            "0      8.3252      41.0  6.984127   1.023810       322.0  2.555556     37.88   \n",
            "1      8.3014      21.0  6.238137   0.971880      2401.0  2.109842     37.86   \n",
            "2      7.2574      52.0  8.288136   1.073446       496.0  2.802260     37.85   \n",
            "3      5.6431      52.0  5.817352   1.073059       558.0  2.547945     37.85   \n",
            "4      3.8462      52.0  6.281853   1.081081       565.0  2.181467     37.85   \n",
            "...       ...       ...       ...        ...         ...       ...       ...   \n",
            "20635  1.5603      25.0  5.045455   1.133333       845.0  2.560606     39.48   \n",
            "20636  2.5568      18.0  6.114035   1.315789       356.0  3.122807     39.49   \n",
            "20637  1.7000      17.0  5.205543   1.120092      1007.0  2.325635     39.43   \n",
            "20638  1.8672      18.0  5.329513   1.171920       741.0  2.123209     39.43   \n",
            "20639  2.3886      16.0  5.254717   1.162264      1387.0  2.616981     39.37   \n",
            "\n",
            "       Longitude  \n",
            "0        -122.23  \n",
            "1        -122.22  \n",
            "2        -122.24  \n",
            "3        -122.25  \n",
            "4        -122.25  \n",
            "...          ...  \n",
            "20635    -121.09  \n",
            "20636    -121.21  \n",
            "20637    -121.22  \n",
            "20638    -121.32  \n",
            "20639    -121.24  \n",
            "\n",
            "[20640 rows x 8 columns]\n",
            "[4.526 3.585 3.521 ... 0.923 0.847 0.894]\n"
          ]
        }
      ]
    },
    {
      "cell_type": "code",
      "source": [
        "sc_X = StandardScaler()\n",
        "X_trainscaled=sc_X.fit_transform(X_train)\n",
        "X_testscaled=sc_X.transform(X_test)"
      ],
      "metadata": {
        "id": "PKLib-K7eiyI"
      },
      "execution_count": 4,
      "outputs": []
    },
    {
      "cell_type": "code",
      "source": [
        "reg = MLPRegressor(hidden_layer_sizes=(64,64,64),activation=\"relu\" ,random_state=1, max_iter=2000).fit(X_trainscaled, y_train)\n"
      ],
      "metadata": {
        "id": "3Rb2417iep1s"
      },
      "execution_count": 5,
      "outputs": []
    },
    {
      "cell_type": "code",
      "source": [
        "y_pred=reg.predict(X_testscaled)\n",
        "print(\"The Score with \", (r2_score(y_pred, y_test)))"
      ],
      "metadata": {
        "colab": {
          "base_uri": "https://localhost:8080/"
        },
        "id": "7dZh0oiwe1CH",
        "outputId": "ed7b358e-c329-4bac-ed46-815c7be81d55"
      },
      "execution_count": 7,
      "outputs": [
        {
          "output_type": "stream",
          "name": "stdout",
          "text": [
            "The Score with  0.7633133194206162\n"
          ]
        }
      ]
    },
    {
      "cell_type": "markdown",
      "source": [
        "## **Classification**"
      ],
      "metadata": {
        "id": "3nhxPtGzfCRw"
      }
    },
    {
      "cell_type": "code",
      "source": [
        "from sklearn.datasets import load_iris\n",
        "from sklearn.neural_network import MLPClassifier \n",
        "from sklearn.model_selection import train_test_split\n",
        "from sklearn.preprocessing import StandardScaler\n",
        "import pandas as pd\n",
        "from sklearn.metrics import plot_confusion_matrix\n",
        "import matplotlib.pyplot as plt"
      ],
      "metadata": {
        "id": "bCU9FUbhe7TX"
      },
      "execution_count": 10,
      "outputs": []
    },
    {
      "cell_type": "code",
      "source": [
        "iris_data = load_iris()\n",
        "X = pd.DataFrame(iris_data.data, columns=iris_data.feature_names)\n",
        "y = iris_data.target"
      ],
      "metadata": {
        "id": "FM0qppRqfDbx"
      },
      "execution_count": 11,
      "outputs": []
    },
    {
      "cell_type": "code",
      "source": [
        "X_train, X_test, y_train, y_test = train_test_split(X,y,random_state=1, test_size=0.2)\n",
        "sc_X = StandardScaler()\n",
        "X_trainscaled=sc_X.fit_transform(X_train)\n",
        "X_testscaled=sc_X.transform(X_test)"
      ],
      "metadata": {
        "id": "MH2-IbUEfneG"
      },
      "execution_count": 12,
      "outputs": []
    },
    {
      "cell_type": "code",
      "source": [
        "clf = MLPClassifier(hidden_layer_sizes=(256,128,64,32),activation=\"relu\",random_state=1).fit(X_trainscaled, y_train)\n",
        "y_pred=clf.predict(X_testscaled)\n",
        "print(clf.score(X_testscaled, y_test))"
      ],
      "metadata": {
        "colab": {
          "base_uri": "https://localhost:8080/"
        },
        "id": "jaA5SuyLfroT",
        "outputId": "a2d2dcf2-bb84-4df9-f538-d33bfdc7d1c7"
      },
      "execution_count": 13,
      "outputs": [
        {
          "output_type": "stream",
          "name": "stdout",
          "text": [
            "0.9666666666666667\n"
          ]
        }
      ]
    },
    {
      "cell_type": "code",
      "source": [
        "fig=plot_confusion_matrix(clf, X_testscaled, y_test,display_labels=[\"Setosa\",\"Versicolor\",\"Virginica\"])\n",
        "fig.figure_.suptitle(\"Confusion Matrix for Iris Dataset\")\n",
        "plt.show()"
      ],
      "metadata": {
        "colab": {
          "base_uri": "https://localhost:8080/",
          "height": 363
        },
        "id": "Y5nHaNE_fwHw",
        "outputId": "0942d40c-7cc3-4ccd-affe-4e16eac5015b"
      },
      "execution_count": 14,
      "outputs": [
        {
          "output_type": "stream",
          "name": "stderr",
          "text": [
            "/usr/local/lib/python3.8/dist-packages/sklearn/utils/deprecation.py:87: FutureWarning: Function plot_confusion_matrix is deprecated; Function `plot_confusion_matrix` is deprecated in 1.0 and will be removed in 1.2. Use one of the class methods: ConfusionMatrixDisplay.from_predictions or ConfusionMatrixDisplay.from_estimator.\n",
            "  warnings.warn(msg, category=FutureWarning)\n"
          ]
        },
        {
          "output_type": "display_data",
          "data": {
            "text/plain": [
              "<Figure size 432x288 with 2 Axes>"
            ],
            "image/png": "[encoded data removed]"
          },
          "metadata": {
            "needs_background": "light"
          }
        }
      ]
    },
    {
      "cell_type": "code",
      "source": [],
      "metadata": {
        "id": "RA-h1vl1f56M"
      },
      "execution_count": null,
      "outputs": []
    }
  ]
}